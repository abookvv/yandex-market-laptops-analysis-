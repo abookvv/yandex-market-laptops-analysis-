{
 "cells": [
  {
   "cell_type": "code",
   "execution_count": 1,
   "id": "a5aa457d-da3e-4404-8944-9a582f21ed57",
   "metadata": {},
   "outputs": [
    {
     "name": "stdout",
     "output_type": "stream",
     "text": [
      "Requirement already satisfied: selenium in c:\\programdata\\anaconda3\\lib\\site-packages (4.32.0)\n",
      "Requirement already satisfied: urllib3<3,>=1.26 in c:\\programdata\\anaconda3\\lib\\site-packages (from urllib3[socks]<3,>=1.26->selenium) (2.2.3)\n",
      "Requirement already satisfied: trio~=0.17 in c:\\programdata\\anaconda3\\lib\\site-packages (from selenium) (0.30.0)\n",
      "Requirement already satisfied: trio-websocket~=0.9 in c:\\programdata\\anaconda3\\lib\\site-packages (from selenium) (0.12.2)\n",
      "Requirement already satisfied: certifi>=2021.10.8 in c:\\programdata\\anaconda3\\lib\\site-packages (from selenium) (2025.4.26)\n",
      "Requirement already satisfied: typing_extensions~=4.9 in c:\\programdata\\anaconda3\\lib\\site-packages (from selenium) (4.11.0)\n",
      "Requirement already satisfied: websocket-client~=1.8 in c:\\programdata\\anaconda3\\lib\\site-packages (from selenium) (1.8.0)\n",
      "Requirement already satisfied: attrs>=23.2.0 in c:\\programdata\\anaconda3\\lib\\site-packages (from trio~=0.17->selenium) (25.3.0)\n",
      "Requirement already satisfied: sortedcontainers in c:\\programdata\\anaconda3\\lib\\site-packages (from trio~=0.17->selenium) (2.4.0)\n",
      "Requirement already satisfied: idna in c:\\programdata\\anaconda3\\lib\\site-packages (from trio~=0.17->selenium) (3.7)\n",
      "Requirement already satisfied: outcome in c:\\programdata\\anaconda3\\lib\\site-packages (from trio~=0.17->selenium) (1.3.0.post0)\n",
      "Requirement already satisfied: sniffio>=1.3.0 in c:\\programdata\\anaconda3\\lib\\site-packages (from trio~=0.17->selenium) (1.3.0)\n",
      "Requirement already satisfied: cffi>=1.14 in c:\\programdata\\anaconda3\\lib\\site-packages (from trio~=0.17->selenium) (1.17.1)\n",
      "Requirement already satisfied: wsproto>=0.14 in c:\\programdata\\anaconda3\\lib\\site-packages (from trio-websocket~=0.9->selenium) (1.2.0)\n",
      "Requirement already satisfied: pysocks!=1.5.7,<2.0,>=1.5.6 in c:\\programdata\\anaconda3\\lib\\site-packages (from urllib3[socks]<3,>=1.26->selenium) (1.7.1)\n",
      "Requirement already satisfied: pycparser in c:\\programdata\\anaconda3\\lib\\site-packages (from cffi>=1.14->trio~=0.17->selenium) (2.21)\n",
      "Requirement already satisfied: h11<1,>=0.9.0 in c:\\programdata\\anaconda3\\lib\\site-packages (from wsproto>=0.14->trio-websocket~=0.9->selenium) (0.14.0)\n"
     ]
    }
   ],
   "source": [
    "!pip install selenium"
   ]
  },
  {
   "cell_type": "code",
   "execution_count": 2,
   "id": "1bf91c53-63bb-46bb-9dd7-143be2be5f2a",
   "metadata": {},
   "outputs": [
    {
     "name": "stdout",
     "output_type": "stream",
     "text": [
      "Requirement already satisfied: selenium_stealth in c:\\programdata\\anaconda3\\lib\\site-packages (1.0.6)\n",
      "Requirement already satisfied: selenium in c:\\programdata\\anaconda3\\lib\\site-packages (from selenium_stealth) (4.32.0)\n",
      "Requirement already satisfied: urllib3<3,>=1.26 in c:\\programdata\\anaconda3\\lib\\site-packages (from urllib3[socks]<3,>=1.26->selenium->selenium_stealth) (2.2.3)\n",
      "Requirement already satisfied: trio~=0.17 in c:\\programdata\\anaconda3\\lib\\site-packages (from selenium->selenium_stealth) (0.30.0)\n",
      "Requirement already satisfied: trio-websocket~=0.9 in c:\\programdata\\anaconda3\\lib\\site-packages (from selenium->selenium_stealth) (0.12.2)\n",
      "Requirement already satisfied: certifi>=2021.10.8 in c:\\programdata\\anaconda3\\lib\\site-packages (from selenium->selenium_stealth) (2025.4.26)\n",
      "Requirement already satisfied: typing_extensions~=4.9 in c:\\programdata\\anaconda3\\lib\\site-packages (from selenium->selenium_stealth) (4.11.0)\n",
      "Requirement already satisfied: websocket-client~=1.8 in c:\\programdata\\anaconda3\\lib\\site-packages (from selenium->selenium_stealth) (1.8.0)\n",
      "Requirement already satisfied: attrs>=23.2.0 in c:\\programdata\\anaconda3\\lib\\site-packages (from trio~=0.17->selenium->selenium_stealth) (25.3.0)\n",
      "Requirement already satisfied: sortedcontainers in c:\\programdata\\anaconda3\\lib\\site-packages (from trio~=0.17->selenium->selenium_stealth) (2.4.0)\n",
      "Requirement already satisfied: idna in c:\\programdata\\anaconda3\\lib\\site-packages (from trio~=0.17->selenium->selenium_stealth) (3.7)\n",
      "Requirement already satisfied: outcome in c:\\programdata\\anaconda3\\lib\\site-packages (from trio~=0.17->selenium->selenium_stealth) (1.3.0.post0)\n",
      "Requirement already satisfied: sniffio>=1.3.0 in c:\\programdata\\anaconda3\\lib\\site-packages (from trio~=0.17->selenium->selenium_stealth) (1.3.0)\n",
      "Requirement already satisfied: cffi>=1.14 in c:\\programdata\\anaconda3\\lib\\site-packages (from trio~=0.17->selenium->selenium_stealth) (1.17.1)\n",
      "Requirement already satisfied: wsproto>=0.14 in c:\\programdata\\anaconda3\\lib\\site-packages (from trio-websocket~=0.9->selenium->selenium_stealth) (1.2.0)\n",
      "Requirement already satisfied: pysocks!=1.5.7,<2.0,>=1.5.6 in c:\\programdata\\anaconda3\\lib\\site-packages (from urllib3[socks]<3,>=1.26->selenium->selenium_stealth) (1.7.1)\n",
      "Requirement already satisfied: pycparser in c:\\programdata\\anaconda3\\lib\\site-packages (from cffi>=1.14->trio~=0.17->selenium->selenium_stealth) (2.21)\n",
      "Requirement already satisfied: h11<1,>=0.9.0 in c:\\programdata\\anaconda3\\lib\\site-packages (from wsproto>=0.14->trio-websocket~=0.9->selenium->selenium_stealth) (0.14.0)\n"
     ]
    }
   ],
   "source": [
    "!pip install selenium_stealth"
   ]
  },
  {
   "cell_type": "code",
   "execution_count": 3,
   "id": "4c40a4c6-a933-4007-b0fb-c97b6ffe72f3",
   "metadata": {},
   "outputs": [
    {
     "name": "stdout",
     "output_type": "stream",
     "text": [
      "Requirement already satisfied: webdriver-manager in c:\\programdata\\anaconda3\\lib\\site-packages (4.0.2)\n",
      "Requirement already satisfied: requests in c:\\programdata\\anaconda3\\lib\\site-packages (from webdriver-manager) (2.32.3)\n",
      "Requirement already satisfied: python-dotenv in c:\\programdata\\anaconda3\\lib\\site-packages (from webdriver-manager) (0.21.0)\n",
      "Requirement already satisfied: packaging in c:\\programdata\\anaconda3\\lib\\site-packages (from webdriver-manager) (24.1)\n",
      "Requirement already satisfied: charset-normalizer<4,>=2 in c:\\programdata\\anaconda3\\lib\\site-packages (from requests->webdriver-manager) (3.3.2)\n",
      "Requirement already satisfied: idna<4,>=2.5 in c:\\programdata\\anaconda3\\lib\\site-packages (from requests->webdriver-manager) (3.7)\n",
      "Requirement already satisfied: urllib3<3,>=1.21.1 in c:\\programdata\\anaconda3\\lib\\site-packages (from requests->webdriver-manager) (2.2.3)\n",
      "Requirement already satisfied: certifi>=2017.4.17 in c:\\programdata\\anaconda3\\lib\\site-packages (from requests->webdriver-manager) (2025.4.26)\n",
      "Note: you may need to restart the kernel to use updated packages.\n"
     ]
    }
   ],
   "source": [
    "pip install webdriver-manager"
   ]
  },
  {
   "cell_type": "code",
   "execution_count": 4,
   "id": "8f7fedb0-ec54-46d8-a6f3-0a88c9b76f69",
   "metadata": {},
   "outputs": [],
   "source": [
    "import time\n",
    "from tqdm import tqdm\n",
    "import os\n",
    "import sys\n",
    "\n",
    "# Удобноее импортирование модулей из scripts\n",
    "wd = os.getcwd()\n",
    "wd = wd[:-wd[::-1].find(\"\\\\\")]\n",
    "wd_data = \"data\\\\\"\n",
    "sys.path.append(wd + 'scripts')\n",
    "from Paeser import yand"
   ]
  },
  {
   "cell_type": "code",
   "execution_count": 3,
   "id": "620b5062-a969-4da1-b6ff-5f715789b94d",
   "metadata": {},
   "outputs": [],
   "source": [
    "#Сбор данных"
   ]
  },
  {
   "cell_type": "code",
   "execution_count": 5,
   "id": "9b6ebdd3-7549-4e0b-8f41-9f39dca0c4e5",
   "metadata": {},
   "outputs": [],
   "source": [
    "from selenium import webdriver\n",
    "from selenium_stealth import stealth\n",
    "from selenium.webdriver.chrome.service import Service\n",
    "from webdriver_manager.chrome import ChromeDriverManager"
   ]
  },
  {
   "cell_type": "code",
   "execution_count": 6,
   "id": "b276fa05-f203-4f4b-812f-36ba4272d9e3",
   "metadata": {},
   "outputs": [],
   "source": [
    "def create_web_driver_stealth() -> webdriver.Chrome:\n",
    "    options = webdriver.ChromeOptions()\n",
    "    options.add_argument(\"start-maximized\") \n",
    "    #options.add_argument(\"--headless=new\")\n",
    "    options.add_argument(\"--disable-gpu\")\n",
    "    options.add_argument(\"--window-size=1920,1080\")\n",
    "    options.add_argument(\"--enable-javascript\")\n",
    "    options.add_argument(\"--lang=en-US\")\n",
    "    options.add_argument(\"--disable-blink-features=AutomationControlled\")\n",
    "    options.add_argument(\"user-agent=Mozilla/5.0 (Windows NT 10.0; Win64; x64) AppleWebKit/537.36 (KHTML, like Gecko) Chrome/91.0.4472.124 Safari/537.36\")\n",
    "    \n",
    "    options.add_experimental_option(\"excludeSwitches\", [\"enable-automation\"])\n",
    "    options.add_experimental_option('useAutomationExtension', False)\n",
    "    \n",
    "    s = Service(ChromeDriverManager().install())\n",
    "    stealth_driver = webdriver.Chrome(service=s, options=options)\n",
    "    \n",
    "    with open('navigator_config.json', 'r') as file:\n",
    "        nav_data = json.load(file)\n",
    "        del nav_data['plugins']\n",
    "        del nav_data['mimeTypes']\n",
    "    \n",
    "    def get_com(i):\n",
    "        return \"\"\"Object.defineProperty(navigator, '%s', {get: () => \"%s\"});\n",
    "        \"\"\" % (i[0], i[1])\n",
    "    \n",
    "    js_script = ''.join([get_com(i) for i in nav_data.items()])\n",
    "    \n",
    "\n",
    "    # Подмена navigator properties\n",
    "    stealth_driver.execute_cdp_cmd(\"Page.addScriptToEvaluateOnNewDocument\", {\n",
    "    \"source\": \"\"\"\n",
    "    Object.defineProperty(navigator, 'webdriver', {get: () => false});\n",
    "    Object.defineProperty(navigator, 'plugins', {get: () => [1, 2, 3]});\n",
    "    Object.defineProperty(navigator, 'languages', {get: () => ['ru-RU', 'ru']});\n",
    "    \"\"\"\n",
    "    })\n",
    "\n",
    "    stealth_driver.execute_script(js_script)\n",
    "    \n",
    "    \n",
    "    return stealth_driver"
   ]
  },
  {
   "cell_type": "code",
   "execution_count": 7,
   "id": "32c55818-1d8a-4bf1-85c0-8dcfb8cd62d0",
   "metadata": {},
   "outputs": [],
   "source": [
    "from selenium.webdriver.common.keys import Keys\n",
    "from selenium.webdriver.common.action_chains import ActionChains\n",
    "import pandas as pd\n",
    "import matplotlib.pyplot as plt"
   ]
  },
  {
   "cell_type": "code",
   "execution_count": 14,
   "id": "cc4b3a42-99e6-4cad-84de-f00587087741",
   "metadata": {},
   "outputs": [
    {
     "name": "stdout",
     "output_type": "stream",
     "text": [
      "https://market.yandex.ru\n"
     ]
    },
    {
     "name": "stderr",
     "output_type": "stream",
     "text": [
      "100%|████████████████████████████████████████████████████████████████████████████████████| 4/4 [00:41<00:00, 10.30s/it]"
     ]
    },
    {
     "name": "stdout",
     "output_type": "stream",
     "text": [
      "Downloaded site in 53.2510884000003 seconds\n"
     ]
    },
    {
     "name": "stderr",
     "output_type": "stream",
     "text": [
      "\n"
     ]
    }
   ],
   "source": [
    "url = \"https://market.yandex.ru\"\n",
    "list_request = [\"Ноутбук\", \"Нетбук\", \"Игровой ноутбук\", \"laptop\"]\n",
    "\n",
    "df = pd.DataFrame({'title': [], 'about': [], 'price': [],'rating': [],'reviews':[],'market': [],'link': [],'req': []})\n",
    "\n",
    "start_time = time.perf_counter()  # про time.perf_counter https://superfastpython.com/time-time-vs-time-perf_counter/\n",
    "driver = create_web_driver_stealth()\n",
    "\n",
    "driver.get(url)\n",
    "time.sleep(5)\n",
    "actions = ActionChains(driver)\n",
    "actions.move_by_offset(10, 10).click().perform()\n",
    "\n",
    "print(url)\n",
    "for req in tqdm(list_request):\n",
    "    if url == \"https://market.yandex.ru\":\n",
    "        df = yand(req, driver, df)\n",
    "    \n",
    "duration = time.perf_counter() - start_time\n",
    "    \n",
    "print(f\"Downloaded site in {duration} seconds\")"
   ]
  },
  {
   "cell_type": "code",
   "execution_count": null,
   "id": "11ca7a9c-fa89-40a2-8fc4-514fe5e49e69",
   "metadata": {},
   "outputs": [],
   "source": [
    "# Сохраним данные"
   ]
  },
  {
   "cell_type": "code",
   "execution_count": 15,
   "id": "93635b42-4817-4748-8a14-4f9400d604bc",
   "metadata": {},
   "outputs": [],
   "source": [
    "df.to_csv(wd + wd_data +'dataset_parsing_laptops_on_yand_market.csv')"
   ]
  },
  {
   "cell_type": "code",
   "execution_count": 16,
   "id": "b3538e4e-239d-42fd-8bc8-aacbe8abd326",
   "metadata": {},
   "outputs": [],
   "source": [
    "#Загрузка данных"
   ]
  },
  {
   "cell_type": "code",
   "execution_count": 17,
   "id": "ab36a726-0bb0-47b2-88b9-1465b50c0793",
   "metadata": {},
   "outputs": [],
   "source": [
    "df = pd.read_csv(wd + wd_data +'dataset_parsing_laptops_on_yand_market.csv').drop(\"Unnamed: 0\", axis = 1)"
   ]
  },
  {
   "cell_type": "code",
   "execution_count": 18,
   "id": "9145ba39-23d4-4be5-9f22-b789ad9beab0",
   "metadata": {},
   "outputs": [
    {
     "data": {
      "text/html": [
       "<div>\n",
       "<style scoped>\n",
       "    .dataframe tbody tr th:only-of-type {\n",
       "        vertical-align: middle;\n",
       "    }\n",
       "\n",
       "    .dataframe tbody tr th {\n",
       "        vertical-align: top;\n",
       "    }\n",
       "\n",
       "    .dataframe thead th {\n",
       "        text-align: right;\n",
       "    }\n",
       "</style>\n",
       "<table border=\"1\" class=\"dataframe\">\n",
       "  <thead>\n",
       "    <tr style=\"text-align: right;\">\n",
       "      <th></th>\n",
       "      <th>title</th>\n",
       "      <th>about</th>\n",
       "      <th>price</th>\n",
       "      <th>rating</th>\n",
       "      <th>reviews</th>\n",
       "      <th>market</th>\n",
       "      <th>link</th>\n",
       "      <th>req</th>\n",
       "    </tr>\n",
       "  </thead>\n",
       "  <tbody>\n",
       "    <tr>\n",
       "      <th>0</th>\n",
       "      <td>Ноутбук WatchMe с процессором Intel Celeron и ...</td>\n",
       "      <td>{}</td>\n",
       "      <td>23364.0</td>\n",
       "      <td>4.4</td>\n",
       "      <td>432.0</td>\n",
       "      <td>yand</td>\n",
       "      <td>https://market.yandex.ru/product--noutbuk-watc...</td>\n",
       "      <td>Ноутбук</td>\n",
       "    </tr>\n",
       "    <tr>\n",
       "      <th>1</th>\n",
       "      <td>Ноутбук HUAWEI MateBook D16 Intel core i5-1245...</td>\n",
       "      <td>{}</td>\n",
       "      <td>47182.0</td>\n",
       "      <td>4.8</td>\n",
       "      <td>298.0</td>\n",
       "      <td>yand</td>\n",
       "      <td>https://market.yandex.ru/product--noutbuk-huaw...</td>\n",
       "      <td>Ноутбук</td>\n",
       "    </tr>\n",
       "    <tr>\n",
       "      <th>2</th>\n",
       "      <td>Ноутбук Acer Extensa 15 EX215-23 Ryzen 5 7520U...</td>\n",
       "      <td>{}</td>\n",
       "      <td>34004.0</td>\n",
       "      <td>4.8</td>\n",
       "      <td>58.0</td>\n",
       "      <td>yand</td>\n",
       "      <td>https://market.yandex.ru/product--noutbuk-acer...</td>\n",
       "      <td>Ноутбук</td>\n",
       "    </tr>\n",
       "    <tr>\n",
       "      <th>3</th>\n",
       "      <td>Ноутбук для работы и учебы Echips Argentum 15....</td>\n",
       "      <td>{}</td>\n",
       "      <td>24250.0</td>\n",
       "      <td>4.7</td>\n",
       "      <td>100.0</td>\n",
       "      <td>yand</td>\n",
       "      <td>https://market.yandex.ru/product--noutbuk-dlia...</td>\n",
       "      <td>Ноутбук</td>\n",
       "    </tr>\n",
       "    <tr>\n",
       "      <th>4</th>\n",
       "      <td>Игровой ноутбук Asus TUF Gaming FA507NVR-LP040...</td>\n",
       "      <td>{}</td>\n",
       "      <td>85766.0</td>\n",
       "      <td>5.0</td>\n",
       "      <td>12.0</td>\n",
       "      <td>yand</td>\n",
       "      <td>https://market.yandex.ru/product--igrovoi-nout...</td>\n",
       "      <td>Ноутбук</td>\n",
       "    </tr>\n",
       "    <tr>\n",
       "      <th>...</th>\n",
       "      <td>...</td>\n",
       "      <td>...</td>\n",
       "      <td>...</td>\n",
       "      <td>...</td>\n",
       "      <td>...</td>\n",
       "      <td>...</td>\n",
       "      <td>...</td>\n",
       "      <td>...</td>\n",
       "    </tr>\n",
       "    <tr>\n",
       "      <th>294</th>\n",
       "      <td>Ноутбук ASUS X1704ZA-AU394 17.3\" (90NB10F1-M00...</td>\n",
       "      <td>{'Экран:': '17.3\" (1920x1080) WVA, 60 Гц', 'Пр...</td>\n",
       "      <td>44999.0</td>\n",
       "      <td>3.7</td>\n",
       "      <td>3.0</td>\n",
       "      <td>yand</td>\n",
       "      <td>https://market.yandex.ru/product--noutbuk-asus...</td>\n",
       "      <td>laptop</td>\n",
       "    </tr>\n",
       "    <tr>\n",
       "      <th>295</th>\n",
       "      <td>Ноутбук для работы и учебы 16\" Intel N95 (до 3...</td>\n",
       "      <td>{'Экран:': '16\" (1920x1080) IPS, 60 Гц', 'Проц...</td>\n",
       "      <td>36456.0</td>\n",
       "      <td>4.9</td>\n",
       "      <td>27.0</td>\n",
       "      <td>yand</td>\n",
       "      <td>https://market.yandex.ru/product--noutbuk-dlia...</td>\n",
       "      <td>laptop</td>\n",
       "    </tr>\n",
       "    <tr>\n",
       "      <th>296</th>\n",
       "      <td>Ноутбук 16\", Intel N95, RAM 16 ГБ, SSD 1024 ГБ...</td>\n",
       "      <td>{'Экран:': '16\" (1920x1080) IPS, 60 Гц', 'Проц...</td>\n",
       "      <td>31262.0</td>\n",
       "      <td>4.7</td>\n",
       "      <td>140.0</td>\n",
       "      <td>yand</td>\n",
       "      <td>https://market.yandex.ru/product--noutbuk-16-i...</td>\n",
       "      <td>laptop</td>\n",
       "    </tr>\n",
       "    <tr>\n",
       "      <th>297</th>\n",
       "      <td>Ноутбук HONOR MagicBook X14 2025 i5-12450H 16/...</td>\n",
       "      <td>{'Экран:': '14\" (1920x1200) IPS, 60 Гц', 'Проц...</td>\n",
       "      <td>49499.0</td>\n",
       "      <td>4.8</td>\n",
       "      <td>5.0</td>\n",
       "      <td>yand</td>\n",
       "      <td>https://market.yandex.ru/product--noutbuk-hono...</td>\n",
       "      <td>laptop</td>\n",
       "    </tr>\n",
       "    <tr>\n",
       "      <th>298</th>\n",
       "      <td>Ноутбук 14\", ультрабук для работы и учебы, Not...</td>\n",
       "      <td>{'Экран:': '14\" (1366x768) IPS, 60 Гц', 'Проце...</td>\n",
       "      <td>22002.0</td>\n",
       "      <td>4.5</td>\n",
       "      <td>464.0</td>\n",
       "      <td>yand</td>\n",
       "      <td>https://market.yandex.ru/product--noutbuk-14-u...</td>\n",
       "      <td>laptop</td>\n",
       "    </tr>\n",
       "  </tbody>\n",
       "</table>\n",
       "<p>299 rows × 8 columns</p>\n",
       "</div>"
      ],
      "text/plain": [
       "                                                 title  \\\n",
       "0    Ноутбук WatchMe с процессором Intel Celeron и ...   \n",
       "1    Ноутбук HUAWEI MateBook D16 Intel core i5-1245...   \n",
       "2    Ноутбук Acer Extensa 15 EX215-23 Ryzen 5 7520U...   \n",
       "3    Ноутбук для работы и учебы Echips Argentum 15....   \n",
       "4    Игровой ноутбук Asus TUF Gaming FA507NVR-LP040...   \n",
       "..                                                 ...   \n",
       "294  Ноутбук ASUS X1704ZA-AU394 17.3\" (90NB10F1-M00...   \n",
       "295  Ноутбук для работы и учебы 16\" Intel N95 (до 3...   \n",
       "296  Ноутбук 16\", Intel N95, RAM 16 ГБ, SSD 1024 ГБ...   \n",
       "297  Ноутбук HONOR MagicBook X14 2025 i5-12450H 16/...   \n",
       "298  Ноутбук 14\", ультрабук для работы и учебы, Not...   \n",
       "\n",
       "                                                 about    price  rating  \\\n",
       "0                                                   {}  23364.0     4.4   \n",
       "1                                                   {}  47182.0     4.8   \n",
       "2                                                   {}  34004.0     4.8   \n",
       "3                                                   {}  24250.0     4.7   \n",
       "4                                                   {}  85766.0     5.0   \n",
       "..                                                 ...      ...     ...   \n",
       "294  {'Экран:': '17.3\" (1920x1080) WVA, 60 Гц', 'Пр...  44999.0     3.7   \n",
       "295  {'Экран:': '16\" (1920x1080) IPS, 60 Гц', 'Проц...  36456.0     4.9   \n",
       "296  {'Экран:': '16\" (1920x1080) IPS, 60 Гц', 'Проц...  31262.0     4.7   \n",
       "297  {'Экран:': '14\" (1920x1200) IPS, 60 Гц', 'Проц...  49499.0     4.8   \n",
       "298  {'Экран:': '14\" (1366x768) IPS, 60 Гц', 'Проце...  22002.0     4.5   \n",
       "\n",
       "     reviews market                                               link  \\\n",
       "0      432.0   yand  https://market.yandex.ru/product--noutbuk-watc...   \n",
       "1      298.0   yand  https://market.yandex.ru/product--noutbuk-huaw...   \n",
       "2       58.0   yand  https://market.yandex.ru/product--noutbuk-acer...   \n",
       "3      100.0   yand  https://market.yandex.ru/product--noutbuk-dlia...   \n",
       "4       12.0   yand  https://market.yandex.ru/product--igrovoi-nout...   \n",
       "..       ...    ...                                                ...   \n",
       "294      3.0   yand  https://market.yandex.ru/product--noutbuk-asus...   \n",
       "295     27.0   yand  https://market.yandex.ru/product--noutbuk-dlia...   \n",
       "296    140.0   yand  https://market.yandex.ru/product--noutbuk-16-i...   \n",
       "297      5.0   yand  https://market.yandex.ru/product--noutbuk-hono...   \n",
       "298    464.0   yand  https://market.yandex.ru/product--noutbuk-14-u...   \n",
       "\n",
       "         req  \n",
       "0    Ноутбук  \n",
       "1    Ноутбук  \n",
       "2    Ноутбук  \n",
       "3    Ноутбук  \n",
       "4    Ноутбук  \n",
       "..       ...  \n",
       "294   laptop  \n",
       "295   laptop  \n",
       "296   laptop  \n",
       "297   laptop  \n",
       "298   laptop  \n",
       "\n",
       "[299 rows x 8 columns]"
      ]
     },
     "execution_count": 18,
     "metadata": {},
     "output_type": "execute_result"
    }
   ],
   "source": [
    "# Посмотрим датасет\n",
    "df"
   ]
  },
  {
   "cell_type": "code",
   "execution_count": 19,
   "id": "c1bcc04e-b129-423b-a5c4-31ae0372d3b0",
   "metadata": {
    "scrolled": true
   },
   "outputs": [
    {
     "name": "stdout",
     "output_type": "stream",
     "text": [
      "title      Ноутбук OSiO FocusLine F150a-004/15.6\"/AMD Ryz...\n",
      "about      {'Экран:': '15.6\" (1920x1080) IPS, 60 Гц', 'Пр...\n",
      "price                                                38609.0\n",
      "rating                                                   4.8\n",
      "reviews                                                 64.0\n",
      "market                                                  yand\n",
      "link       https://market.yandex.ru/product--noutbuk-osio...\n",
      "req                                                  Ноутбук\n",
      "Name: 53, dtype: object\n"
     ]
    },
    {
     "data": {
      "text/plain": [
       "'https://market.yandex.ru/product--noutbuk-osio-focusline-f150a-004-15-6-amd-ryzen-5-5560u-16-512-win-grey/55455922?hid=90401&sku=102707412678&show-uid=17473026156849018679206023&from=search&cpa=1&do-waremd5=Kj3Kk9X-3RVHKl_-IiuKhw&sponsored=1&cpc=o-Z4bbV6p8ufvJ9xv-CAKDe-5WWU7if-i8aAQT-jvlOMivu10BGd4v9NW6h8frQNaBFH3oiAujHIZo8_2qB_UDnsERH-Hu4XEXay7coX3JaE5HYicBiNFYS-PPL29-4N2tmriYUfZwdcQMhNzNvsCvbCjkT6LQEpzv2GX8zVqvj6dtm4A8qpZhn20N0qlEh3LN-q_xyisj41CxTrt-aEunw6QFyi6JOzZutwAXVKIe9vzrcN4DSxmeHebDZ1Cvt5SWNXdqMYwBE-nB4ceRJNlOpkivMu1A1eFXLly5MJQ6R-CO_kXqOH9QjjieESMxky5NveHPETL01MZ-gn_jxqOHFDQGFCvGe2enTlH2dHl62z04oJF8w2tTo5bboFQOwkJuriPQZhgvVw4XRHPPHvpH0ZqzN3Q9G6hSSI942O_Ltox_NTk_8B2OUgop-jiWLfNXxok-16L2UkV9D7aUIXanGbez1JhLxWo_mkz0ZdQ21HwvIsxb0dm7SNP3kEBZcWka-iCFPXKx6BV4InE6Vfgni2-sxLAtvE-lEyZy4uMD_8OHouxldp_Q%2C%2C&cc=CiBmMjdjMDRmMWE2YzQ4MmM4ZjI4OWI4ZTUxMzg2ZTE4YhCIAoB95u0G&uniqueId=119485579&cpm-adv=1'"
      ]
     },
     "execution_count": 19,
     "metadata": {},
     "output_type": "execute_result"
    }
   ],
   "source": [
    "# Достанем ссылку и проверим соответствие данных товара\n",
    "print(df.loc[53])\n",
    "df.loc[53][\"link\"]"
   ]
  },
  {
   "cell_type": "code",
   "execution_count": 20,
   "id": "7c652063-5806-4603-a123-c7985c84c846",
   "metadata": {},
   "outputs": [
    {
     "name": "stdout",
     "output_type": "stream",
     "text": [
      "<class 'pandas.core.frame.DataFrame'>\n",
      "RangeIndex: 299 entries, 0 to 298\n",
      "Data columns (total 8 columns):\n",
      " #   Column   Non-Null Count  Dtype  \n",
      "---  ------   --------------  -----  \n",
      " 0   title    299 non-null    object \n",
      " 1   about    299 non-null    object \n",
      " 2   price    299 non-null    float64\n",
      " 3   rating   299 non-null    float64\n",
      " 4   reviews  299 non-null    float64\n",
      " 5   market   299 non-null    object \n",
      " 6   link     299 non-null    object \n",
      " 7   req      299 non-null    object \n",
      "dtypes: float64(3), object(5)\n",
      "memory usage: 18.8+ KB\n"
     ]
    }
   ],
   "source": [
    "df.info()"
   ]
  },
  {
   "cell_type": "code",
   "execution_count": 21,
   "id": "1499a97a-6328-432e-9a33-853efa6068bc",
   "metadata": {},
   "outputs": [],
   "source": [
    "# Поменяем тип данных на корректныe\n",
    "df.price = df.price.astype(int)\n",
    "df.reviews = df.reviews.astype(int)"
   ]
  },
  {
   "cell_type": "code",
   "execution_count": 22,
   "id": "e39c086c-47b5-407e-9e4f-9548b76cdcf2",
   "metadata": {
    "scrolled": true
   },
   "outputs": [
    {
     "name": "stdout",
     "output_type": "stream",
     "text": [
      "\n",
      "Пропуски в данных:\n",
      "title      0\n",
      "about      0\n",
      "price      0\n",
      "rating     0\n",
      "reviews    0\n",
      "market     0\n",
      "link       0\n",
      "req        0\n",
      "dtype: int64\n"
     ]
    }
   ],
   "source": [
    "print(\"\\nПропуски в данных:\")\n",
    "print(df.isnull().sum())"
   ]
  },
  {
   "cell_type": "code",
   "execution_count": 23,
   "id": "3cc9609d-6cf2-4019-a85c-7c84f4be4dfe",
   "metadata": {},
   "outputs": [],
   "source": [
    "#пропусков нет из-за того что при пропусках в парсинге вызывалось исключение и такие данные не шли в датасет"
   ]
  },
  {
   "cell_type": "code",
   "execution_count": 24,
   "id": "e57bbfba-6bae-45b1-90ee-2ab25087ff22",
   "metadata": {},
   "outputs": [
    {
     "name": "stdout",
     "output_type": "stream",
     "text": [
      "\n",
      "Описательные статистики:\n",
      "                                                    title about  \\\n",
      "count                                                 299   299   \n",
      "unique                                                166   111   \n",
      "top     Ноутбук игровой Machenike S15 Quazar 15.6\", In...    {}   \n",
      "freq                                                   13   159   \n",
      "mean                                                  NaN   NaN   \n",
      "std                                                   NaN   NaN   \n",
      "min                                                   NaN   NaN   \n",
      "25%                                                   NaN   NaN   \n",
      "50%                                                   NaN   NaN   \n",
      "75%                                                   NaN   NaN   \n",
      "max                                                   NaN   NaN   \n",
      "\n",
      "                price      rating      reviews market  \\\n",
      "count      299.000000  299.000000   299.000000    299   \n",
      "unique            NaN         NaN          NaN      1   \n",
      "top               NaN         NaN          NaN   yand   \n",
      "freq              NaN         NaN          NaN    299   \n",
      "mean     59830.026756    4.737458   239.264214    NaN   \n",
      "std      38003.852553    0.261516   364.068657    NaN   \n",
      "min       6434.000000    2.500000     1.000000    NaN   \n",
      "25%      30022.500000    4.700000    31.000000    NaN   \n",
      "50%      47519.000000    4.800000    59.000000    NaN   \n",
      "75%      80189.000000    4.800000   266.000000    NaN   \n",
      "max     192802.000000    5.000000  1531.000000    NaN   \n",
      "\n",
      "                                                     link     req  \n",
      "count                                                 299     299  \n",
      "unique                                                299       4  \n",
      "top     https://market.yandex.ru/product--noutbuk-watc...  laptop  \n",
      "freq                                                    1      92  \n",
      "mean                                                  NaN     NaN  \n",
      "std                                                   NaN     NaN  \n",
      "min                                                   NaN     NaN  \n",
      "25%                                                   NaN     NaN  \n",
      "50%                                                   NaN     NaN  \n",
      "75%                                                   NaN     NaN  \n",
      "max                                                   NaN     NaN  \n"
     ]
    }
   ],
   "source": [
    "print(\"\\nОписательные статистики:\")\n",
    "print(df.describe(include='all'))"
   ]
  },
  {
   "cell_type": "code",
   "execution_count": 25,
   "id": "7767c8ea-ccec-44ed-b415-1001ebebff15",
   "metadata": {},
   "outputs": [],
   "source": [
    "#рейтинг в пятибальной шкале, максимум - 5.0, а минимум у нас 3.0 значит всё верно\n",
    "#Количесиво отзывов нормальное, минимум 1, так как товары без отзывов не добавлялись в датафрейм при парсинге\n",
    "#Цена в 6 тысяч настораживает, но имеет место быть"
   ]
  },
  {
   "cell_type": "code",
   "execution_count": 26,
   "id": "6683ec0e-ccac-4b69-8ca5-bb085db1b603",
   "metadata": {},
   "outputs": [],
   "source": [
    "#Посмотрим самый дешёвый и дорогой ноутбуки"
   ]
  },
  {
   "cell_type": "code",
   "execution_count": 27,
   "id": "5f3c95d9-c31f-4d4b-8af0-ef1f827e0456",
   "metadata": {},
   "outputs": [
    {
     "data": {
      "text/plain": [
       "array(['https://market.yandex.ru/product--10-1-netbuk-samsung-n102sp-1024x600-intel-atom-n2100-1x1-6ggts-ram-2-gb-hdd-320-gb-chernyi-windows-7/844800881?hid=90401&sku=103621661766&show-uid=17473026279637851146306026&from=search&cpa=1&do-waremd5=oLdUv6H1sWV4jNXiooo9qg&cpc=nqGmsujVVPesgQiwOop8cK_kk_4RRBhUTAiAMAu7xxjna-yuZVE039dSnRrFveSWNbREdUdeargtdhTszhAB5Eszu9OR3UuyBSj7UKaW5fsgJREvIN7Et2I5o9R7oOPC06eOhOJSwhd6R9tQr0dZF5gLGuptPazYZhKOHRGnTE9WGkd3q6gmsdy5B1q1ExSiEoZcrO1Az90mkYSp1slAStpcijOgcDtvhdcCsZtM1z2SnLrjiUuML-jtqD-pRyRglmfrNIuchHk1COSVu2PssU3pPL-Llp1p_QdC1ZzT2kJqzyaoiPKuW064HzGJRlD8KNMjvt9GU74qfMvh5jKj-nxstZZL0FSxhlhVPJVtHI5zMG1VGnO6TwiDhOdDbX-ZkijdIb3eOu8cs3JBlt8Il7WT52hF6egzVEraeIk9Kdf9mJlf_G5c-kl6zxeUu2peu0chaIkofKUcacsuoSaEFf-KS89UHb6CuO4XkbWk492xJg7bl65C_pOLVQduSN0tm8mN56tXja0bCfH42Ra1_6o4VzEYrHHr&cc=CiAzZmM2ZTlkMjkwNDk4MGI1YTAzM2UxZTZhMDI2ZWFkORAHgH3m7QY%2C&uniqueId=82452083&resale_goods=resale_resale&resale_goods_condition=resale_well'],\n",
       "      dtype=object)"
      ]
     },
     "execution_count": 27,
     "metadata": {},
     "output_type": "execute_result"
    }
   ],
   "source": [
    "df[df.price== 6434][\"link\"].values"
   ]
  },
  {
   "cell_type": "code",
   "execution_count": 28,
   "id": "2b44356b-2a83-40b0-8198-c8b9f99b2205",
   "metadata": {},
   "outputs": [
    {
     "data": {
      "text/plain": [
       "array([], dtype=object)"
      ]
     },
     "execution_count": 28,
     "metadata": {},
     "output_type": "execute_result"
    }
   ],
   "source": [
    "df[df.price== 322245][\"link\"].values"
   ]
  },
  {
   "cell_type": "code",
   "execution_count": 29,
   "id": "b3613a72-f953-4498-8731-56383f35210d",
   "metadata": {
    "scrolled": true
   },
   "outputs": [
    {
     "data": {
      "text/html": [
       "<div>\n",
       "<style scoped>\n",
       "    .dataframe tbody tr th:only-of-type {\n",
       "        vertical-align: middle;\n",
       "    }\n",
       "\n",
       "    .dataframe tbody tr th {\n",
       "        vertical-align: top;\n",
       "    }\n",
       "\n",
       "    .dataframe thead th {\n",
       "        text-align: right;\n",
       "    }\n",
       "</style>\n",
       "<table border=\"1\" class=\"dataframe\">\n",
       "  <thead>\n",
       "    <tr style=\"text-align: right;\">\n",
       "      <th></th>\n",
       "      <th>title</th>\n",
       "      <th>about</th>\n",
       "      <th>price</th>\n",
       "      <th>rating</th>\n",
       "      <th>reviews</th>\n",
       "      <th>market</th>\n",
       "      <th>link</th>\n",
       "      <th>req</th>\n",
       "    </tr>\n",
       "  </thead>\n",
       "  <tbody>\n",
       "    <tr>\n",
       "      <th>0</th>\n",
       "      <td>Ноутбук WatchMe с процессором Intel Celeron и ...</td>\n",
       "      <td>{}</td>\n",
       "      <td>23364</td>\n",
       "      <td>4.4</td>\n",
       "      <td>432</td>\n",
       "      <td>yand</td>\n",
       "      <td>https://market.yandex.ru/product--noutbuk-watc...</td>\n",
       "      <td>Ноутбук</td>\n",
       "    </tr>\n",
       "    <tr>\n",
       "      <th>1</th>\n",
       "      <td>Ноутбук HUAWEI MateBook D16 Intel core i5-1245...</td>\n",
       "      <td>{}</td>\n",
       "      <td>47182</td>\n",
       "      <td>4.8</td>\n",
       "      <td>298</td>\n",
       "      <td>yand</td>\n",
       "      <td>https://market.yandex.ru/product--noutbuk-huaw...</td>\n",
       "      <td>Ноутбук</td>\n",
       "    </tr>\n",
       "    <tr>\n",
       "      <th>2</th>\n",
       "      <td>Ноутбук Acer Extensa 15 EX215-23 Ryzen 5 7520U...</td>\n",
       "      <td>{}</td>\n",
       "      <td>34004</td>\n",
       "      <td>4.8</td>\n",
       "      <td>58</td>\n",
       "      <td>yand</td>\n",
       "      <td>https://market.yandex.ru/product--noutbuk-acer...</td>\n",
       "      <td>Ноутбук</td>\n",
       "    </tr>\n",
       "    <tr>\n",
       "      <th>3</th>\n",
       "      <td>Ноутбук для работы и учебы Echips Argentum 15....</td>\n",
       "      <td>{}</td>\n",
       "      <td>24250</td>\n",
       "      <td>4.7</td>\n",
       "      <td>100</td>\n",
       "      <td>yand</td>\n",
       "      <td>https://market.yandex.ru/product--noutbuk-dlia...</td>\n",
       "      <td>Ноутбук</td>\n",
       "    </tr>\n",
       "    <tr>\n",
       "      <th>4</th>\n",
       "      <td>Игровой ноутбук Asus TUF Gaming FA507NVR-LP040...</td>\n",
       "      <td>{}</td>\n",
       "      <td>85766</td>\n",
       "      <td>5.0</td>\n",
       "      <td>12</td>\n",
       "      <td>yand</td>\n",
       "      <td>https://market.yandex.ru/product--igrovoi-nout...</td>\n",
       "      <td>Ноутбук</td>\n",
       "    </tr>\n",
       "    <tr>\n",
       "      <th>...</th>\n",
       "      <td>...</td>\n",
       "      <td>...</td>\n",
       "      <td>...</td>\n",
       "      <td>...</td>\n",
       "      <td>...</td>\n",
       "      <td>...</td>\n",
       "      <td>...</td>\n",
       "      <td>...</td>\n",
       "    </tr>\n",
       "    <tr>\n",
       "      <th>294</th>\n",
       "      <td>Ноутбук ASUS X1704ZA-AU394 17.3\" (90NB10F1-M00...</td>\n",
       "      <td>{'Экран:': '17.3\" (1920x1080) WVA, 60 Гц', 'Пр...</td>\n",
       "      <td>44999</td>\n",
       "      <td>3.7</td>\n",
       "      <td>3</td>\n",
       "      <td>yand</td>\n",
       "      <td>https://market.yandex.ru/product--noutbuk-asus...</td>\n",
       "      <td>laptop</td>\n",
       "    </tr>\n",
       "    <tr>\n",
       "      <th>295</th>\n",
       "      <td>Ноутбук для работы и учебы 16\" Intel N95 (до 3...</td>\n",
       "      <td>{'Экран:': '16\" (1920x1080) IPS, 60 Гц', 'Проц...</td>\n",
       "      <td>36456</td>\n",
       "      <td>4.9</td>\n",
       "      <td>27</td>\n",
       "      <td>yand</td>\n",
       "      <td>https://market.yandex.ru/product--noutbuk-dlia...</td>\n",
       "      <td>laptop</td>\n",
       "    </tr>\n",
       "    <tr>\n",
       "      <th>296</th>\n",
       "      <td>Ноутбук 16\", Intel N95, RAM 16 ГБ, SSD 1024 ГБ...</td>\n",
       "      <td>{'Экран:': '16\" (1920x1080) IPS, 60 Гц', 'Проц...</td>\n",
       "      <td>31262</td>\n",
       "      <td>4.7</td>\n",
       "      <td>140</td>\n",
       "      <td>yand</td>\n",
       "      <td>https://market.yandex.ru/product--noutbuk-16-i...</td>\n",
       "      <td>laptop</td>\n",
       "    </tr>\n",
       "    <tr>\n",
       "      <th>297</th>\n",
       "      <td>Ноутбук HONOR MagicBook X14 2025 i5-12450H 16/...</td>\n",
       "      <td>{'Экран:': '14\" (1920x1200) IPS, 60 Гц', 'Проц...</td>\n",
       "      <td>49499</td>\n",
       "      <td>4.8</td>\n",
       "      <td>5</td>\n",
       "      <td>yand</td>\n",
       "      <td>https://market.yandex.ru/product--noutbuk-hono...</td>\n",
       "      <td>laptop</td>\n",
       "    </tr>\n",
       "    <tr>\n",
       "      <th>298</th>\n",
       "      <td>Ноутбук 14\", ультрабук для работы и учебы, Not...</td>\n",
       "      <td>{'Экран:': '14\" (1366x768) IPS, 60 Гц', 'Проце...</td>\n",
       "      <td>22002</td>\n",
       "      <td>4.5</td>\n",
       "      <td>464</td>\n",
       "      <td>yand</td>\n",
       "      <td>https://market.yandex.ru/product--noutbuk-14-u...</td>\n",
       "      <td>laptop</td>\n",
       "    </tr>\n",
       "  </tbody>\n",
       "</table>\n",
       "<p>297 rows × 8 columns</p>\n",
       "</div>"
      ],
      "text/plain": [
       "                                                 title  \\\n",
       "0    Ноутбук WatchMe с процессором Intel Celeron и ...   \n",
       "1    Ноутбук HUAWEI MateBook D16 Intel core i5-1245...   \n",
       "2    Ноутбук Acer Extensa 15 EX215-23 Ryzen 5 7520U...   \n",
       "3    Ноутбук для работы и учебы Echips Argentum 15....   \n",
       "4    Игровой ноутбук Asus TUF Gaming FA507NVR-LP040...   \n",
       "..                                                 ...   \n",
       "294  Ноутбук ASUS X1704ZA-AU394 17.3\" (90NB10F1-M00...   \n",
       "295  Ноутбук для работы и учебы 16\" Intel N95 (до 3...   \n",
       "296  Ноутбук 16\", Intel N95, RAM 16 ГБ, SSD 1024 ГБ...   \n",
       "297  Ноутбук HONOR MagicBook X14 2025 i5-12450H 16/...   \n",
       "298  Ноутбук 14\", ультрабук для работы и учебы, Not...   \n",
       "\n",
       "                                                 about  price  rating  \\\n",
       "0                                                   {}  23364     4.4   \n",
       "1                                                   {}  47182     4.8   \n",
       "2                                                   {}  34004     4.8   \n",
       "3                                                   {}  24250     4.7   \n",
       "4                                                   {}  85766     5.0   \n",
       "..                                                 ...    ...     ...   \n",
       "294  {'Экран:': '17.3\" (1920x1080) WVA, 60 Гц', 'Пр...  44999     3.7   \n",
       "295  {'Экран:': '16\" (1920x1080) IPS, 60 Гц', 'Проц...  36456     4.9   \n",
       "296  {'Экран:': '16\" (1920x1080) IPS, 60 Гц', 'Проц...  31262     4.7   \n",
       "297  {'Экран:': '14\" (1920x1200) IPS, 60 Гц', 'Проц...  49499     4.8   \n",
       "298  {'Экран:': '14\" (1366x768) IPS, 60 Гц', 'Проце...  22002     4.5   \n",
       "\n",
       "     reviews market                                               link  \\\n",
       "0        432   yand  https://market.yandex.ru/product--noutbuk-watc...   \n",
       "1        298   yand  https://market.yandex.ru/product--noutbuk-huaw...   \n",
       "2         58   yand  https://market.yandex.ru/product--noutbuk-acer...   \n",
       "3        100   yand  https://market.yandex.ru/product--noutbuk-dlia...   \n",
       "4         12   yand  https://market.yandex.ru/product--igrovoi-nout...   \n",
       "..       ...    ...                                                ...   \n",
       "294        3   yand  https://market.yandex.ru/product--noutbuk-asus...   \n",
       "295       27   yand  https://market.yandex.ru/product--noutbuk-dlia...   \n",
       "296      140   yand  https://market.yandex.ru/product--noutbuk-16-i...   \n",
       "297        5   yand  https://market.yandex.ru/product--noutbuk-hono...   \n",
       "298      464   yand  https://market.yandex.ru/product--noutbuk-14-u...   \n",
       "\n",
       "         req  \n",
       "0    Ноутбук  \n",
       "1    Ноутбук  \n",
       "2    Ноутбук  \n",
       "3    Ноутбук  \n",
       "4    Ноутбук  \n",
       "..       ...  \n",
       "294   laptop  \n",
       "295   laptop  \n",
       "296   laptop  \n",
       "297   laptop  \n",
       "298   laptop  \n",
       "\n",
       "[297 rows x 8 columns]"
      ]
     },
     "execution_count": 29,
     "metadata": {},
     "output_type": "execute_result"
    }
   ],
   "source": [
    "# Удалим данные с пропусками(на всякий случай) и дубликаты\n",
    "df = df.dropna()\n",
    "df = df.drop_duplicates()\n",
    "\n",
    "def Is_there_any_truth(lst):\n",
    "    for i in lst:\n",
    "        if i == True:\n",
    "            return True\n",
    "    return False\n",
    "\n",
    "\n",
    "#Очистим от товаров не содержащих интересующее нас слова\n",
    "list_request = ['Ноутбук', 'Нетбук', 'laptop']\n",
    "df = df[df.apply(lambda x: Is_there_any_truth([i.lower() in x['title'].lower() for i in list_request]), axis=1)]\n",
    "\n",
    "#Очистим данные от выбросов\n",
    "\n",
    "def clearing(df, reqvest = None, col_name = \"price\"):\n",
    "    if reqvest != None:\n",
    "        filtred_df = df[df.req == reqvest]\n",
    "    else:\n",
    "        filtred_df = df\n",
    "    \n",
    "    q1 = filtred_df[col_name].quantile(0.25)\n",
    "    q3 = filtred_df[col_name].quantile(0.75)\n",
    "    iqr = q3 - q1\n",
    "    df = df[((df[col_name] < q3 + 1.5 * iqr) & (df[col_name] > q1 - 1.5 * iqr)) | (df.req != reqvest)]\n",
    "    return df\n",
    "\n",
    "df = clearing(df)\n",
    "df"
   ]
  },
  {
   "cell_type": "code",
   "execution_count": 30,
   "id": "2a53175f-b03f-4b06-8a2f-4a863b5c25ad",
   "metadata": {},
   "outputs": [
    {
     "name": "stdout",
     "output_type": "stream",
     "text": [
      "\n",
      "Анализ столбца price:\n",
      "Медиана: 47519.0\n",
      "Среднее: 59602.952861952865\n",
      "Стандартное отклонение: 37825.22584887023\n",
      "Минимум: 6434\n",
      "Максимум: 192802\n",
      "Количество нулевых значений: 0\n",
      "\n",
      "Анализ столбца rating:\n",
      "Медиана: 4.8\n",
      "Среднее: 4.738720538720538\n",
      "Стандартное отклонение: 0.26165219464371203\n",
      "Минимум: 2.5\n",
      "Максимум: 5.0\n",
      "Количество нулевых значений: 0\n",
      "\n",
      "Анализ столбца reviews:\n",
      "Медиана: 59.0\n",
      "Среднее: 240.7104377104377\n",
      "Стандартное отклонение: 364.86433566187804\n",
      "Минимум: 1\n",
      "Максимум: 1531\n",
      "Количество нулевых значений: 0\n"
     ]
    }
   ],
   "source": [
    "# Анализ числовых переменных у очищенных данных\n",
    "numeric_cols = ['price', 'rating', 'reviews']\n",
    "for col in numeric_cols:\n",
    "    print(f\"\\nАнализ столбца {col}:\")\n",
    "    print(f\"Медиана: {df[col].median()}\")\n",
    "    print(f\"Среднее: {df[col].mean()}\")\n",
    "    print(f\"Стандартное отклонение: {df[col].std()}\")\n",
    "    print(f\"Минимум: {df[col].min()}\")\n",
    "    print(f\"Максимум: {df[col].max()}\")\n",
    "    print(f\"Количество нулевых значений: {(df[col] == 0).sum()}\")"
   ]
  },
  {
   "cell_type": "code",
   "execution_count": 31,
   "id": "15ac9140-c47a-4c7c-b7f7-d2cbe391b278",
   "metadata": {},
   "outputs": [],
   "source": [
    "# Значения не вызывают подозрений - всё в пределах нормы"
   ]
  },
  {
   "cell_type": "code",
   "execution_count": 32,
   "id": "0b6c9e7c-aff3-4651-9ebd-2df941fb6ff6",
   "metadata": {
    "scrolled": true
   },
   "outputs": [
    {
     "data": {
      "text/html": [
       "<div>\n",
       "<style scoped>\n",
       "    .dataframe tbody tr th:only-of-type {\n",
       "        vertical-align: middle;\n",
       "    }\n",
       "\n",
       "    .dataframe tbody tr th {\n",
       "        vertical-align: top;\n",
       "    }\n",
       "\n",
       "    .dataframe thead th {\n",
       "        text-align: right;\n",
       "    }\n",
       "</style>\n",
       "<table border=\"1\" class=\"dataframe\">\n",
       "  <thead>\n",
       "    <tr style=\"text-align: right;\">\n",
       "      <th></th>\n",
       "      <th>title</th>\n",
       "      <th>about</th>\n",
       "      <th>price</th>\n",
       "      <th>rating</th>\n",
       "      <th>reviews</th>\n",
       "      <th>market</th>\n",
       "      <th>link</th>\n",
       "      <th>req</th>\n",
       "    </tr>\n",
       "  </thead>\n",
       "  <tbody>\n",
       "    <tr>\n",
       "      <th>0</th>\n",
       "      <td>Ноутбук WatchMe с процессором Intel Celeron и ...</td>\n",
       "      <td>{}</td>\n",
       "      <td>23364</td>\n",
       "      <td>4.4</td>\n",
       "      <td>432</td>\n",
       "      <td>yand</td>\n",
       "      <td>https://market.yandex.ru/product--noutbuk-watc...</td>\n",
       "      <td>Ноутбук</td>\n",
       "    </tr>\n",
       "    <tr>\n",
       "      <th>1</th>\n",
       "      <td>Ноутбук HUAWEI MateBook D16 Intel core i5-1245...</td>\n",
       "      <td>{}</td>\n",
       "      <td>47182</td>\n",
       "      <td>4.8</td>\n",
       "      <td>298</td>\n",
       "      <td>yand</td>\n",
       "      <td>https://market.yandex.ru/product--noutbuk-huaw...</td>\n",
       "      <td>Ноутбук</td>\n",
       "    </tr>\n",
       "    <tr>\n",
       "      <th>2</th>\n",
       "      <td>Ноутбук Acer Extensa 15 EX215-23 Ryzen 5 7520U...</td>\n",
       "      <td>{}</td>\n",
       "      <td>34004</td>\n",
       "      <td>4.8</td>\n",
       "      <td>58</td>\n",
       "      <td>yand</td>\n",
       "      <td>https://market.yandex.ru/product--noutbuk-acer...</td>\n",
       "      <td>Ноутбук</td>\n",
       "    </tr>\n",
       "    <tr>\n",
       "      <th>3</th>\n",
       "      <td>Ноутбук для работы и учебы Echips Argentum 15....</td>\n",
       "      <td>{}</td>\n",
       "      <td>24250</td>\n",
       "      <td>4.7</td>\n",
       "      <td>100</td>\n",
       "      <td>yand</td>\n",
       "      <td>https://market.yandex.ru/product--noutbuk-dlia...</td>\n",
       "      <td>Ноутбук</td>\n",
       "    </tr>\n",
       "    <tr>\n",
       "      <th>4</th>\n",
       "      <td>Игровой ноутбук Asus TUF Gaming FA507NVR-LP040...</td>\n",
       "      <td>{}</td>\n",
       "      <td>85766</td>\n",
       "      <td>5.0</td>\n",
       "      <td>12</td>\n",
       "      <td>yand</td>\n",
       "      <td>https://market.yandex.ru/product--igrovoi-nout...</td>\n",
       "      <td>Ноутбук</td>\n",
       "    </tr>\n",
       "    <tr>\n",
       "      <th>...</th>\n",
       "      <td>...</td>\n",
       "      <td>...</td>\n",
       "      <td>...</td>\n",
       "      <td>...</td>\n",
       "      <td>...</td>\n",
       "      <td>...</td>\n",
       "      <td>...</td>\n",
       "      <td>...</td>\n",
       "    </tr>\n",
       "    <tr>\n",
       "      <th>294</th>\n",
       "      <td>Ноутбук ASUS X1704ZA-AU394 17.3\" (90NB10F1-M00...</td>\n",
       "      <td>{'Экран:': '17.3\" (1920x1080) WVA, 60 Гц', 'Пр...</td>\n",
       "      <td>44999</td>\n",
       "      <td>3.7</td>\n",
       "      <td>3</td>\n",
       "      <td>yand</td>\n",
       "      <td>https://market.yandex.ru/product--noutbuk-asus...</td>\n",
       "      <td>laptop</td>\n",
       "    </tr>\n",
       "    <tr>\n",
       "      <th>295</th>\n",
       "      <td>Ноутбук для работы и учебы 16\" Intel N95 (до 3...</td>\n",
       "      <td>{'Экран:': '16\" (1920x1080) IPS, 60 Гц', 'Проц...</td>\n",
       "      <td>36456</td>\n",
       "      <td>4.9</td>\n",
       "      <td>27</td>\n",
       "      <td>yand</td>\n",
       "      <td>https://market.yandex.ru/product--noutbuk-dlia...</td>\n",
       "      <td>laptop</td>\n",
       "    </tr>\n",
       "    <tr>\n",
       "      <th>296</th>\n",
       "      <td>Ноутбук 16\", Intel N95, RAM 16 ГБ, SSD 1024 ГБ...</td>\n",
       "      <td>{'Экран:': '16\" (1920x1080) IPS, 60 Гц', 'Проц...</td>\n",
       "      <td>31262</td>\n",
       "      <td>4.7</td>\n",
       "      <td>140</td>\n",
       "      <td>yand</td>\n",
       "      <td>https://market.yandex.ru/product--noutbuk-16-i...</td>\n",
       "      <td>laptop</td>\n",
       "    </tr>\n",
       "    <tr>\n",
       "      <th>297</th>\n",
       "      <td>Ноутбук HONOR MagicBook X14 2025 i5-12450H 16/...</td>\n",
       "      <td>{'Экран:': '14\" (1920x1200) IPS, 60 Гц', 'Проц...</td>\n",
       "      <td>49499</td>\n",
       "      <td>4.8</td>\n",
       "      <td>5</td>\n",
       "      <td>yand</td>\n",
       "      <td>https://market.yandex.ru/product--noutbuk-hono...</td>\n",
       "      <td>laptop</td>\n",
       "    </tr>\n",
       "    <tr>\n",
       "      <th>298</th>\n",
       "      <td>Ноутбук 14\", ультрабук для работы и учебы, Not...</td>\n",
       "      <td>{'Экран:': '14\" (1366x768) IPS, 60 Гц', 'Проце...</td>\n",
       "      <td>22002</td>\n",
       "      <td>4.5</td>\n",
       "      <td>464</td>\n",
       "      <td>yand</td>\n",
       "      <td>https://market.yandex.ru/product--noutbuk-14-u...</td>\n",
       "      <td>laptop</td>\n",
       "    </tr>\n",
       "  </tbody>\n",
       "</table>\n",
       "<p>297 rows × 8 columns</p>\n",
       "</div>"
      ],
      "text/plain": [
       "                                                 title  \\\n",
       "0    Ноутбук WatchMe с процессором Intel Celeron и ...   \n",
       "1    Ноутбук HUAWEI MateBook D16 Intel core i5-1245...   \n",
       "2    Ноутбук Acer Extensa 15 EX215-23 Ryzen 5 7520U...   \n",
       "3    Ноутбук для работы и учебы Echips Argentum 15....   \n",
       "4    Игровой ноутбук Asus TUF Gaming FA507NVR-LP040...   \n",
       "..                                                 ...   \n",
       "294  Ноутбук ASUS X1704ZA-AU394 17.3\" (90NB10F1-M00...   \n",
       "295  Ноутбук для работы и учебы 16\" Intel N95 (до 3...   \n",
       "296  Ноутбук 16\", Intel N95, RAM 16 ГБ, SSD 1024 ГБ...   \n",
       "297  Ноутбук HONOR MagicBook X14 2025 i5-12450H 16/...   \n",
       "298  Ноутбук 14\", ультрабук для работы и учебы, Not...   \n",
       "\n",
       "                                                 about  price  rating  \\\n",
       "0                                                   {}  23364     4.4   \n",
       "1                                                   {}  47182     4.8   \n",
       "2                                                   {}  34004     4.8   \n",
       "3                                                   {}  24250     4.7   \n",
       "4                                                   {}  85766     5.0   \n",
       "..                                                 ...    ...     ...   \n",
       "294  {'Экран:': '17.3\" (1920x1080) WVA, 60 Гц', 'Пр...  44999     3.7   \n",
       "295  {'Экран:': '16\" (1920x1080) IPS, 60 Гц', 'Проц...  36456     4.9   \n",
       "296  {'Экран:': '16\" (1920x1080) IPS, 60 Гц', 'Проц...  31262     4.7   \n",
       "297  {'Экран:': '14\" (1920x1200) IPS, 60 Гц', 'Проц...  49499     4.8   \n",
       "298  {'Экран:': '14\" (1366x768) IPS, 60 Гц', 'Проце...  22002     4.5   \n",
       "\n",
       "     reviews market                                               link  \\\n",
       "0        432   yand  https://market.yandex.ru/product--noutbuk-watc...   \n",
       "1        298   yand  https://market.yandex.ru/product--noutbuk-huaw...   \n",
       "2         58   yand  https://market.yandex.ru/product--noutbuk-acer...   \n",
       "3        100   yand  https://market.yandex.ru/product--noutbuk-dlia...   \n",
       "4         12   yand  https://market.yandex.ru/product--igrovoi-nout...   \n",
       "..       ...    ...                                                ...   \n",
       "294        3   yand  https://market.yandex.ru/product--noutbuk-asus...   \n",
       "295       27   yand  https://market.yandex.ru/product--noutbuk-dlia...   \n",
       "296      140   yand  https://market.yandex.ru/product--noutbuk-16-i...   \n",
       "297        5   yand  https://market.yandex.ru/product--noutbuk-hono...   \n",
       "298      464   yand  https://market.yandex.ru/product--noutbuk-14-u...   \n",
       "\n",
       "         req  \n",
       "0    Ноутбук  \n",
       "1    Ноутбук  \n",
       "2    Ноутбук  \n",
       "3    Ноутбук  \n",
       "4    Ноутбук  \n",
       "..       ...  \n",
       "294   laptop  \n",
       "295   laptop  \n",
       "296   laptop  \n",
       "297   laptop  \n",
       "298   laptop  \n",
       "\n",
       "[297 rows x 8 columns]"
      ]
     },
     "execution_count": 32,
     "metadata": {},
     "output_type": "execute_result"
    }
   ],
   "source": [
    "df"
   ]
  },
  {
   "cell_type": "code",
   "execution_count": 33,
   "id": "c6bb1063-81c2-444e-a847-5591cf2db224",
   "metadata": {},
   "outputs": [],
   "source": [
    "#сохраним очищенные данные\n",
    "df.to_csv(wd + wd_data +'clean_dataset_parsing_laptops_on_yand_market.csv')"
   ]
  },
  {
   "cell_type": "code",
   "execution_count": 34,
   "id": "78c3283e-883e-49eb-aa1b-70cda05af854",
   "metadata": {},
   "outputs": [],
   "source": [
    "# Загрузим очищенные данные\n",
    "df = pd.read_csv(wd + wd_data +'clean_dataset_parsing_laptops_on_yand_market.csv').drop(\"Unnamed: 0\", axis = 1)"
   ]
  },
  {
   "cell_type": "code",
   "execution_count": 45,
   "id": "e2feeea6-8fd0-4200-a8ab-a572e15dfbc4",
   "metadata": {},
   "outputs": [
    {
     "data": {
      "text/plain": [
       "DeltaGenerator()"
      ]
     },
     "execution_count": 45,
     "metadata": {},
     "output_type": "execute_result"
    },
    {
     "data": {
      "image/png": "[encoded data removed]",
      "text/plain": [
       "<Figure size 1000x600 with 1 Axes>"
      ]
     },
     "metadata": {},
     "output_type": "display_data"
    }
   ],
   "source": [
    "fig, ax = plt.subplots(figsize=(10, 6))\n",
    "ax.hist(df['price'].dropna(), bins=50, color='steelblue', edgecolor='black')\n",
    "ax.set_title('Распределение цен')\n",
    "ax.set_xlabel('Цена')\n",
    "ax.set_ylabel('Количество')\n",
    "ax.grid(axis='y', alpha=0.75)\n",
    "st.pyplot(fig)"
   ]
  },
  {
   "cell_type": "code",
   "execution_count": 36,
   "id": "21bf727a-88a3-46ec-8a75-f1ad5bbc4bcd",
   "metadata": {},
   "outputs": [
    {
     "data": {
      "image/png": "[encoded data removed]",
      "text/plain": [
       "<Figure size 1000x600 with 1 Axes>"
      ]
     },
     "metadata": {},
     "output_type": "display_data"
    }
   ],
   "source": [
    "plt.figure(figsize=(10, 6))\n",
    "plt.scatter(df['rating'], df['price'], alpha=0.5, color='green')\n",
    "plt.title('Зависимость цены от рейтинга')\n",
    "plt.xlabel('Рейтинг (из 5)')\n",
    "plt.ylabel('Цена (руб)')\n",
    "plt.grid(True)\n",
    "plt.show()"
   ]
  },
  {
   "cell_type": "code",
   "execution_count": 47,
   "id": "e1404147-10f9-4695-bdc7-6c98837e7086",
   "metadata": {},
   "outputs": [
    {
     "name": "stdout",
     "output_type": "stream",
     "text": [
      "Коэффициент корреляции: 0.32\n"
     ]
    }
   ],
   "source": [
    "correlation = df[['price', 'rating']].corr().iloc[0,1]\n",
    "print(f\"Коэффициент корреляции: {correlation:.2f}\")"
   ]
  },
  {
   "cell_type": "code",
   "execution_count": 51,
   "id": "e66f7f5a-5cc8-41b9-8014-2a0d8fe60989",
   "metadata": {},
   "outputs": [
    {
     "data": {
      "image/png": "[encoded data removed]",
      "text/plain": [
       "<Figure size 1000x600 with 1 Axes>"
      ]
     },
     "metadata": {},
     "output_type": "display_data"
    }
   ],
   "source": [
    "# Нормализация размера пузырей (чтобы не были слишком большими)\n",
    "max_reviews = df['reviews'].max()\n",
    "min_reviews = df['reviews'].min()\n",
    "size_scale = 1000  # Масштабирующий коэффициент\n",
    "\n",
    "plt.figure(figsize=(10, 6))\n",
    "\n",
    "# Пузырьковая диаграмма (все точки одного цвета)\n",
    "scatter = plt.scatter(\n",
    "    x=df['rating'],\n",
    "    y=df['price'],\n",
    "    s=df['reviews'] / max_reviews * size_scale,\n",
    "    c='blue',          # Один цвет для всех точек\n",
    "    alpha=0.5,         # Прозрачность\n",
    "    edgecolors='black', # Граница пузырей\n",
    "    linewidth=0.5\n",
    ")\n",
    "\n",
    "plt.title('Зависимость цены от рейтинга и количества отзывов', fontsize=14)\n",
    "plt.xlabel('Рейтинг (1-5)', fontsize=12)\n",
    "plt.ylabel('Цена (руб)', fontsize=12)\n",
    "plt.grid(True, linestyle='--', alpha=0.3)\n",
    "\n",
    "# Добавляем легенду для размера пузырей\n",
    "for reviews in [10, 100, 1000]:\n",
    "    plt.scatter([], [], c='blue', alpha=0.3, s=reviews / max_reviews * size_scale,\n",
    "                label=f'{reviews} отзывов')\n",
    "plt.legend(title='Количество отзывов', loc='upper right')\n",
    "\n",
    "plt.tight_layout()\n",
    "plt.show()"
   ]
  },
  {
   "cell_type": "code",
   "execution_count": null,
   "id": "a1b06812-a8cd-40c9-8de1-8a0fd26384ce",
   "metadata": {},
   "outputs": [],
   "source": []
  }
 ],
 "metadata": {
  "kernelspec": {
   "display_name": "Python [conda env:base] *",
   "language": "python",
   "name": "conda-base-py"
  },
  "language_info": {
   "codemirror_mode": {
    "name": "ipython",
    "version": 3
   },
   "file_extension": ".py",
   "mimetype": "text/x-python",
   "name": "python",
   "nbconvert_exporter": "python",
   "pygments_lexer": "ipython3",
   "version": "3.12.7"
  }
 },
 "nbformat": 4,
 "nbformat_minor": 5
}
